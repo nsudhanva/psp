{
 "cells": [
  {
   "cell_type": "code",
   "execution_count": 1,
   "metadata": {},
   "outputs": [],
   "source": [
    "import numpy as np\n",
    "import pandas as pd\n",
    "import math\n",
    "import matplotlib.pyplot as plt\n",
    "import re\n",
    "from scipy.stats import skew, kurtosis"
   ]
  },
  {
   "cell_type": "code",
   "execution_count": 2,
   "metadata": {},
   "outputs": [],
   "source": [
    "count_dict = {}"
   ]
  },
  {
   "cell_type": "code",
   "execution_count": 3,
   "metadata": {},
   "outputs": [],
   "source": [
    "for i in range(3, 42):\n",
    "    file_name = 'data_' + str(i) + '-filtered.csv'\n",
    "    data = pd.read_csv(file_name)\n",
    "#     print(data.head())\n",
    "#     print(data.describe())\n",
    "    data = data[((data['skew'] <= 0.5) & (data['skew'] >= -0.5)) & (data['kurtosis'] <= -1)]\n",
    "#     print(data)\n",
    "    count_dict[int(i)] = data.count()[0]"
   ]
  },
  {
   "cell_type": "code",
   "execution_count": 4,
   "metadata": {},
   "outputs": [
    {
     "name": "stdout",
     "output_type": "stream",
     "text": [
      "{3: 1119, 4: 825, 5: 544, 6: 511, 7: 483, 8: 477, 9: 481, 10: 493, 11: 492, 12: 477, 13: 459, 14: 454, 15: 443, 16: 433, 17: 427, 18: 414, 19: 402, 20: 397, 21: 394, 22: 376, 23: 374, 24: 384, 25: 381, 26: 378, 27: 375, 28: 369, 29: 370, 30: 364, 31: 356, 32: 346, 33: 339, 34: 330, 35: 329, 36: 319, 37: 311, 38: 307, 39: 310, 40: 315, 41: 317}\n"
     ]
    }
   ],
   "source": [
    "print(count_dict)"
   ]
  },
  {
   "cell_type": "code",
   "execution_count": 5,
   "metadata": {},
   "outputs": [],
   "source": [
    "df = pd.DataFrame()\n",
    "df['fragment'] = count_dict.keys()\n",
    "df['count'] = count_dict.values()\n",
    "df.to_csv('invariant.csv', index=False)"
   ]
  },
  {
   "cell_type": "code",
   "execution_count": 6,
   "metadata": {},
   "outputs": [],
   "source": [
    "for i in range(3, 42):\n",
    "    file_name = 'data_' + str(i) + '-filtered.csv'\n",
    "    data = pd.read_csv(file_name)\n",
    "#     print(data.head())\n",
    "#     print(data.describe())\n",
    "    data = data[((data['skew'] > 0.5) | (data['skew'] < -0.5)) | (data['kurtosis'] > -1)]\n",
    "#     print(data)\n",
    "    count_dict[int(i)] = data.count()[0]"
   ]
  },
  {
   "cell_type": "code",
   "execution_count": 7,
   "metadata": {},
   "outputs": [
    {
     "name": "stdout",
     "output_type": "stream",
     "text": [
      "{3: 3874, 4: 6396, 5: 5899, 6: 5714, 7: 5621, 8: 5513, 9: 5398, 10: 5286, 11: 5191, 12: 5114, 13: 5048, 14: 4976, 15: 4908, 16: 4838, 17: 4769, 18: 4708, 19: 4647, 20: 4581, 21: 4516, 22: 4474, 23: 4419, 24: 4352, 25: 4297, 26: 4243, 27: 4192, 28: 4145, 29: 4095, 30: 4053, 31: 4013, 32: 3978, 33: 3943, 34: 3911, 35: 3871, 36: 3842, 37: 3814, 38: 3782, 39: 3743, 40: 3699, 41: 3659}\n"
     ]
    }
   ],
   "source": [
    "print(count_dict)"
   ]
  },
  {
   "cell_type": "code",
   "execution_count": 8,
   "metadata": {},
   "outputs": [],
   "source": [
    "df = pd.DataFrame()\n",
    "df['fragment'] = count_dict.keys()\n",
    "df['count'] = count_dict.values()\n",
    "df.to_csv('variant.csv', index=False)"
   ]
  },
  {
   "cell_type": "code",
   "execution_count": null,
   "metadata": {},
   "outputs": [],
   "source": []
  }
 ],
 "metadata": {
  "kernelspec": {
   "display_name": "Python 3",
   "language": "python",
   "name": "python3"
  },
  "language_info": {
   "codemirror_mode": {
    "name": "ipython",
    "version": 3
   },
   "file_extension": ".py",
   "mimetype": "text/x-python",
   "name": "python",
   "nbconvert_exporter": "python",
   "pygments_lexer": "ipython3",
   "version": "3.7.6"
  }
 },
 "nbformat": 4,
 "nbformat_minor": 4
}
