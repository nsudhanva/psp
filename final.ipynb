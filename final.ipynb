{
 "cells": [
  {
   "cell_type": "code",
   "execution_count": 1,
   "metadata": {},
   "outputs": [],
   "source": [
    "import numpy as np\n",
    "import pandas as pd\n",
    "import math\n",
    "import matplotlib.pyplot as plt\n",
    "import re\n",
    "from scipy.stats import skew, kurtosis"
   ]
  },
  {
   "cell_type": "code",
   "execution_count": 2,
   "metadata": {},
   "outputs": [],
   "source": [
    "count_dict = {}\n",
    "count_dict_tscore = {}"
   ]
  },
  {
   "cell_type": "code",
   "execution_count": 3,
   "metadata": {},
   "outputs": [
    {
     "name": "stderr",
     "output_type": "stream",
     "text": [
      "/home/sudhanva/anaconda3/envs/tf114gpu/lib/python3.7/site-packages/IPython/core/interactiveshell.py:3063: DtypeWarning: Columns (2) have mixed types.Specify dtype option on import or set low_memory=False.\n",
      "  interactivity=interactivity, compiler=compiler, result=result)\n"
     ]
    }
   ],
   "source": [
    "for i in range(3, 42):\n",
    "    file_name = './unfiltered/data_' + str(i) + '-unfiltered.csv'\n",
    "    data = pd.read_csv(file_name)\n",
    "#     print(data.head())\n",
    "#     print(data.describe())\n",
    "    data = data[((data['skew'] <= 0.5) & (data['skew'] >= -0.5)) & (data['kurtosis'] <= -1)]\n",
    "#     print(data)\n",
    "    count_dict[int(i)] = data.count()[0]\n",
    "    data.to_csv('./unfiltered/data_' + str(i) + '-unfiltered-invariant.csv', index=False)"
   ]
  },
  {
   "cell_type": "code",
   "execution_count": 4,
   "metadata": {},
   "outputs": [
    {
     "name": "stdout",
     "output_type": "stream",
     "text": [
      "{3: 89667, 4: 81242, 5: 82220, 6: 90916, 7: 96576, 8: 101231, 9: 108422, 10: 114143, 11: 116682, 12: 118567, 13: 120300, 14: 121141, 15: 122844, 16: 123077, 17: 120716, 18: 117859, 19: 114745, 20: 112217, 21: 109612, 22: 104667, 23: 102280, 24: 101334, 25: 98982, 26: 95961, 27: 92661, 28: 89412, 29: 86184, 30: 82376, 31: 78188, 32: 74776, 33: 74147, 34: 72062, 35: 70503, 36: 69585, 37: 66816, 38: 63971, 39: 62021, 40: 60915, 41: 58482}\n"
     ]
    }
   ],
   "source": [
    "print(count_dict)"
   ]
  },
  {
   "cell_type": "code",
   "execution_count": 5,
   "metadata": {},
   "outputs": [],
   "source": [
    "df = pd.DataFrame()"
   ]
  },
  {
   "cell_type": "code",
   "execution_count": 6,
   "metadata": {},
   "outputs": [],
   "source": [
    "df['fragment'] = count_dict.keys()\n",
    "df['count'] = count_dict.values()\n",
    "df.to_csv('invariant.csv', index=False)"
   ]
  },
  {
   "cell_type": "code",
   "execution_count": 7,
   "metadata": {},
   "outputs": [],
   "source": [
    "for i in range(3, 42):\n",
    "    file_name = './unfiltered/data_' + str(i) + '-unfiltered.csv'\n",
    "    data = pd.read_csv(file_name)\n",
    "#     print(data.head())\n",
    "#     print(data.describe())\n",
    "    data = data[((data['skew'] > 0.5) | (data['skew'] < -0.5)) | (data['kurtosis'] > -1)]\n",
    "#     print(data)\n",
    "#     count_dict[int(i)] = data.count()[0]\n",
    "    data.to_csv('./unfiltered/data_' + str(i) + '-unfiltered-variant.csv', index=False)"
   ]
  },
  {
   "cell_type": "code",
   "execution_count": 8,
   "metadata": {},
   "outputs": [
    {
     "name": "stdout",
     "output_type": "stream",
     "text": [
      "{3: 89667, 4: 81242, 5: 82220, 6: 90916, 7: 96576, 8: 101231, 9: 108422, 10: 114143, 11: 116682, 12: 118567, 13: 120300, 14: 121141, 15: 122844, 16: 123077, 17: 120716, 18: 117859, 19: 114745, 20: 112217, 21: 109612, 22: 104667, 23: 102280, 24: 101334, 25: 98982, 26: 95961, 27: 92661, 28: 89412, 29: 86184, 30: 82376, 31: 78188, 32: 74776, 33: 74147, 34: 72062, 35: 70503, 36: 69585, 37: 66816, 38: 63971, 39: 62021, 40: 60915, 41: 58482}\n"
     ]
    }
   ],
   "source": [
    "print(count_dict)"
   ]
  },
  {
   "cell_type": "code",
   "execution_count": 9,
   "metadata": {},
   "outputs": [],
   "source": [
    "df = pd.DataFrame()"
   ]
  },
  {
   "cell_type": "code",
   "execution_count": 10,
   "metadata": {},
   "outputs": [],
   "source": [
    "df['fragment'] = count_dict.keys()\n",
    "df['count'] = count_dict.values()\n",
    "df.to_csv('variant.csv', index=False)"
   ]
  }
 ],
 "metadata": {
  "kernelspec": {
   "display_name": "Python 3",
   "language": "python",
   "name": "python3"
  },
  "language_info": {
   "codemirror_mode": {
    "name": "ipython",
    "version": 3
   },
   "file_extension": ".py",
   "mimetype": "text/x-python",
   "name": "python",
   "nbconvert_exporter": "python",
   "pygments_lexer": "ipython3",
   "version": "3.7.6"
  }
 },
 "nbformat": 4,
 "nbformat_minor": 4
}
