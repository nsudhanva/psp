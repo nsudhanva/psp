{
 "cells": [
  {
   "cell_type": "code",
   "execution_count": 1,
   "metadata": {},
   "outputs": [],
   "source": [
    "import numpy as np\n",
    "import pandas as pd\n",
    "import math\n",
    "import matplotlib.pyplot as plt\n",
    "import matplotlib.patches as mpatches\n",
    "\n",
    "import re\n",
    "import os\n",
    "from scipy.stats import skew, kurtosis\n",
    "plt.ioff()"
   ]
  },
  {
   "cell_type": "code",
   "execution_count": null,
   "metadata": {},
   "outputs": [
    {
     "name": "stdout",
     "output_type": "stream",
     "text": [
      "3\n"
     ]
    }
   ],
   "source": [
    "for i in range(3, 42):\n",
    "    file_name = 'data_' + str(i) + '-unfiltered.csv'\n",
    "    df = pd.read_csv(file_name)\n",
    "    df.fillna(0, inplace=True)\n",
    "    os.makedirs('./plots/' + str(i), exist_ok=True)\n",
    "    \n",
    "    print(i)\n",
    "    \n",
    "    fragments = df['fragment_one'].unique()\n",
    "    \n",
    "    plt.close('all')\n",
    "    \n",
    "    for j in fragments:\n",
    "        plt.figure(figsize=(20, 10))\n",
    "        _ = plt.hist(df[df['fragment_one'] == j]['tscore'], bins=[-3, -2, -1, 0, 1, 2, 3]);\n",
    "        plt.title(j, fontsize=20)\n",
    "        yellow_patch = mpatches.Patch(label='T-Score Std: ' + str(df[df['fragment_one'] == j]['tscore'].std()))\n",
    "        red_patch = mpatches.Patch(label='Skewness: ' + str(df[df['fragment_one'] == j]['skew'].iloc[0]))\n",
    "        blue_patch = mpatches.Patch(label='Excess Kurtosis: ' + str(df[df['fragment_one'] == j]['kurtosis'].iloc[0]))\n",
    "        plt.legend(handles=[red_patch, blue_patch, yellow_patch], prop={'size': 14}, loc=(0.7, 1.01))\n",
    "        plt.xlabel('t-score (mean + std)', fontsize=18)\n",
    "        plt.ylabel('Frequency', fontsize=18)\n",
    "        plt.savefig('./plots/' + str(i) + '/' + j)\n",
    "        plt.close('all')"
   ]
  },
  {
   "cell_type": "code",
   "execution_count": null,
   "metadata": {},
   "outputs": [],
   "source": []
  },
  {
   "cell_type": "code",
   "execution_count": null,
   "metadata": {},
   "outputs": [],
   "source": []
  }
 ],
 "metadata": {
  "kernelspec": {
   "display_name": "Python 3",
   "language": "python",
   "name": "python3"
  },
  "language_info": {
   "codemirror_mode": {
    "name": "ipython",
    "version": 3
   },
   "file_extension": ".py",
   "mimetype": "text/x-python",
   "name": "python",
   "nbconvert_exporter": "python",
   "pygments_lexer": "ipython3",
   "version": "3.7.6"
  }
 },
 "nbformat": 4,
 "nbformat_minor": 4
}
