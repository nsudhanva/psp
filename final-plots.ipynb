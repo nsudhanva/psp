{
 "cells": [
  {
   "cell_type": "code",
   "execution_count": 1,
   "metadata": {},
   "outputs": [],
   "source": [
    "import numpy as np\n",
    "import pandas as pd\n",
    "from scipy import stats\n",
    "import math\n",
    "import matplotlib.pyplot as plt\n",
    "import matplotlib.patches as mpatches\n",
    "from sklearn.preprocessing import MinMaxScaler\n",
    "\n",
    "import re\n",
    "import os\n",
    "from scipy.stats import skew, kurtosis\n",
    "plt.ioff()"
   ]
  },
  {
   "cell_type": "code",
   "execution_count": 2,
   "metadata": {},
   "outputs": [],
   "source": [
    "seq = {\n",
    "    'ALA': 'A',\n",
    "    'ARG': 'R',\n",
    "    'ASN' : 'N',\n",
    "    'ASP': 'D',\n",
    "    'CYS': 'C',\n",
    "    'GLU': 'E',\n",
    "    'GLN': 'Q',\n",
    "    'GLY' : 'G',\n",
    "    'HIS': 'H',\n",
    "    'ILE': 'I',\n",
    "    'LEU': 'L',\n",
    "    'LYS': 'K',\n",
    "    'MET': 'M',\n",
    "    'PHE': 'F',\n",
    "    'PRO': 'P',\n",
    "    'SER': 'S',\n",
    "    'THR': 'T',\n",
    "    'TRP': 'W',\n",
    "    'TYR': 'Y',\n",
    "    'VAL': 'V'\n",
    "}"
   ]
  },
  {
   "cell_type": "code",
   "execution_count": 3,
   "metadata": {},
   "outputs": [],
   "source": [
    "def find_replace_multi_ordered(string):\n",
    "    \n",
    "    for item in sorted(seq.keys(), key = len, reverse = True):\n",
    "        string = re.sub(item, seq[item], string)\n",
    "    return string"
   ]
  },
  {
   "cell_type": "code",
   "execution_count": 4,
   "metadata": {},
   "outputs": [
    {
     "name": "stdout",
     "output_type": "stream",
     "text": [
      "3 4 5 6 7 8 9 10 11 12 13 14 15 16 17 18 19 20 21 22 23 24 25 26 27 28 29 30 31 32 33 34 35 36 37 38 39 "
     ]
    },
    {
     "name": "stderr",
     "output_type": "stream",
     "text": [
      "/home/sudhanva/anaconda3/envs/tf114gpu/lib/python3.7/site-packages/IPython/core/interactiveshell.py:3063: DtypeWarning: Columns (2) have mixed types.Specify dtype option on import or set low_memory=False.\n",
      "  interactivity=interactivity, compiler=compiler, result=result)\n"
     ]
    },
    {
     "name": "stdout",
     "output_type": "stream",
     "text": [
      "40 41 "
     ]
    }
   ],
   "source": [
    "for i in range(3, 42):\n",
    "    file_name = './unfiltered/data_' + str(i) + '-unfiltered.csv'\n",
    "    df = pd.read_csv(file_name).head(3000)\n",
    "    df.fillna(0, inplace=True)\n",
    "    os.makedirs('./plots_unfiltered/' + str(i), exist_ok=True)\n",
    "    \n",
    "    print(i, end=' ')\n",
    "    \n",
    "    fragments = df['fragment_one'].unique()\n",
    "    \n",
    "    plt.close('all')\n",
    "    \n",
    "    for j in fragments:\n",
    "        plt.figure(figsize=(20, 10))\n",
    "        \n",
    "        if df[df['fragment_one'] == j]['tscore'].mean() == 0.0:\n",
    "            continue\n",
    "            \n",
    "        std = df[df['fragment_one'] == j]['tscore'].std()\n",
    "\n",
    "        _ = plt.hist(df[df['fragment_one'] == j]['tscore'], bins=np.arange(std * -4, std * 5, std), edgecolor='black', linewidth=1.2, align='mid', color=\"grey\");\n",
    "        plt.title(find_replace_multi_ordered(j), fontsize=20)\n",
    "        yellow_patch = mpatches.Patch(label='T-Score Std: ' + str(df[df['fragment_one'] == j]['tscore'].std().round(3)))\n",
    "        red_patch = mpatches.Patch(label='Skewness: ' + str(df[df['fragment_one'] == j]['skew'].iloc[0].round(3)))\n",
    "        blue_patch = mpatches.Patch(label='Excess Kurtosis: ' + str(df[df['fragment_one'] == j]['kurtosis'].iloc[0].round(3)))\n",
    "        green_patch = mpatches.Patch(label='Count: ' + str(df[df['fragment_one'] == j]['n'].iloc[0]))\n",
    "        plt.legend(handles=[red_patch, blue_patch, yellow_patch, green_patch], prop={'size': 12}, loc=(0.7, 1.001))\n",
    "        plt.xlabel('t-score (mean + std)', fontsize=18)\n",
    "        plt.ylabel('Frequency', fontsize=18)\n",
    "    \n",
    "        plt.savefig('./plots_unfiltered/' + str(i) + '/' + j)\n",
    "        plt.close('all')"
   ]
  },
  {
   "cell_type": "code",
   "execution_count": 5,
   "metadata": {},
   "outputs": [
    {
     "name": "stdout",
     "output_type": "stream",
     "text": [
      "3 4 5 6 7 8 9 10 11 12 13 14 15 16 17 18 19 20 21 22 23 24 25 26 27 28 29 30 31 32 33 34 35 36 37 38 39 40 41 "
     ]
    }
   ],
   "source": [
    "for i in range(3, 42):\n",
    "    file_name = './unfiltered/data_' + str(i) + '-unfiltered-invariant.csv'\n",
    "    df = pd.read_csv(file_name).head(3000)\n",
    "    df.fillna(0, inplace=True)\n",
    "    os.makedirs('./plots_unfiltered_invariant/' + str(i), exist_ok=True)\n",
    "    \n",
    "    print(i, end=' ')\n",
    "    \n",
    "    fragments = df['fragment_one'].unique()\n",
    "    \n",
    "    plt.close('all')\n",
    "    \n",
    "    for j in fragments:\n",
    "        plt.figure(figsize=(20, 10))\n",
    "        \n",
    "        if df[df['fragment_one'] == j]['tscore'].mean() == 0.0:\n",
    "            continue\n",
    "            \n",
    "        std = df[df['fragment_one'] == j]['tscore'].std()\n",
    "\n",
    "        _ = plt.hist(df[df['fragment_one'] == j]['tscore'], bins=np.arange(std * -4, std * 5, std), edgecolor='black', linewidth=1.2, align='mid', color=\"grey\");\n",
    "        plt.title(find_replace_multi_ordered(j), fontsize=20)\n",
    "        yellow_patch = mpatches.Patch(label='T-Score Std: ' + str(df[df['fragment_one'] == j]['tscore'].std().round(3)))\n",
    "        red_patch = mpatches.Patch(label='Skewness: ' + str(df[df['fragment_one'] == j]['skew'].iloc[0].round(3)))\n",
    "        blue_patch = mpatches.Patch(label='Excess Kurtosis: ' + str(df[df['fragment_one'] == j]['kurtosis'].iloc[0].round(3)))\n",
    "        green_patch = mpatches.Patch(label='Count: ' + str(df[df['fragment_one'] == j]['n'].iloc[0]))\n",
    "        plt.legend(handles=[red_patch, blue_patch, yellow_patch, green_patch], prop={'size': 12}, loc=(0.7, 1.001))\n",
    "        plt.xlabel('t-score (mean + std)', fontsize=18)\n",
    "        plt.ylabel('Frequency', fontsize=18)\n",
    "    \n",
    "        plt.savefig('./plots_unfiltered_invariant/' + str(i) + '/' + j)\n",
    "        plt.close('all')"
   ]
  },
  {
   "cell_type": "code",
   "execution_count": 6,
   "metadata": {},
   "outputs": [
    {
     "name": "stdout",
     "output_type": "stream",
     "text": [
      "3 4 5 6 7 8 9 10 11 12 13 14 15 16 17 18 19 20 21 22 23 24 25 26 27 28 29 30 31 32 33 34 35 36 37 38 39 40 41 "
     ]
    }
   ],
   "source": [
    "for i in range(3, 42):\n",
    "    file_name = './unfiltered/data_' + str(i) + '-unfiltered-variant.csv'\n",
    "    df = pd.read_csv(file_name).head(3000)\n",
    "    df.fillna(0, inplace=True)\n",
    "    os.makedirs('./plots_unfiltered_variant/' + str(i), exist_ok=True)\n",
    "    \n",
    "    print(i, end=' ')\n",
    "    \n",
    "    fragments = df['fragment_one'].unique()\n",
    "    \n",
    "    plt.close('all')\n",
    "    \n",
    "    for j in fragments:\n",
    "        plt.figure(figsize=(20, 10))\n",
    "        \n",
    "        if df[df['fragment_one'] == j]['tscore'].mean() == 0.0:\n",
    "            continue\n",
    "            \n",
    "        std = df[df['fragment_one'] == j]['tscore'].std()\n",
    "\n",
    "        _ = plt.hist(df[df['fragment_one'] == j]['tscore'], bins=np.arange(std * -4, std * 5, std), edgecolor='black', linewidth=1.2, align='mid', color=\"grey\");\n",
    "        plt.title(find_replace_multi_ordered(j), fontsize=20)\n",
    "        yellow_patch = mpatches.Patch(label='T-Score Std: ' + str(df[df['fragment_one'] == j]['tscore'].std().round(3)))\n",
    "        red_patch = mpatches.Patch(label='Skewness: ' + str(df[df['fragment_one'] == j]['skew'].iloc[0].round(3)))\n",
    "        blue_patch = mpatches.Patch(label='Excess Kurtosis: ' + str(df[df['fragment_one'] == j]['kurtosis'].iloc[0].round(3)))\n",
    "        green_patch = mpatches.Patch(label='Count: ' + str(df[df['fragment_one'] == j]['n'].iloc[0]))\n",
    "        plt.legend(handles=[red_patch, blue_patch, yellow_patch, green_patch], prop={'size': 12}, loc=(0.7, 1.001))\n",
    "        plt.xlabel('t-score (mean + std)', fontsize=18)\n",
    "        plt.ylabel('Frequency', fontsize=18)\n",
    "    \n",
    "        plt.savefig('./plots_unfiltered_variant/' + str(i) + '/' + j)\n",
    "        plt.close('all')"
   ]
  },
  {
   "cell_type": "code",
   "execution_count": 8,
   "metadata": {},
   "outputs": [
    {
     "name": "stdout",
     "output_type": "stream",
     "text": [
      "3 "
     ]
    },
    {
     "name": "stderr",
     "output_type": "stream",
     "text": [
      "/home/sudhanva/anaconda3/envs/tf114gpu/lib/python3.7/site-packages/ipykernel_launcher.py:14: RuntimeWarning: More than 20 figures have been opened. Figures created through the pyplot interface (`matplotlib.pyplot.figure`) are retained until explicitly closed and may consume too much memory. (To control this warning, see the rcParam `figure.max_open_warning`).\n",
      "  \n"
     ]
    },
    {
     "name": "stdout",
     "output_type": "stream",
     "text": [
      "4 5 6 7 8 9 10 11 12 13 14 15 16 17 18 19 20 21 22 23 24 25 26 27 28 29 30 31 32 33 34 35 36 37 38 39 40 41 "
     ]
    }
   ],
   "source": [
    "for i in range(3, 42):\n",
    "    file_name = './filtered/data_' + str(i) + '-filtered.csv'\n",
    "    df = pd.read_csv(file_name).head(3000)\n",
    "    df.fillna(0, inplace=True)\n",
    "    os.makedirs('./plots_filtered/' + str(i), exist_ok=True)\n",
    "    \n",
    "    print(i, end=' ')\n",
    "    \n",
    "    fragments = df['fragment_one'].unique()\n",
    "    \n",
    "    plt.close('all')\n",
    "    \n",
    "    for j in fragments:\n",
    "        plt.figure(figsize=(20, 10))\n",
    "        \n",
    "        if df[df['fragment_one'] == j]['tscore'].mean() == 0.0 or df[df['fragment_one'] == j]['tscore'].count() == 1:\n",
    "            continue\n",
    "            \n",
    "        std = df[df['fragment_one'] == j]['tscore'].std()\n",
    "\n",
    "        _ = plt.hist(df[df['fragment_one'] == j]['tscore'], bins=np.arange(std * -4, std * 5, std), edgecolor='black', linewidth=1.2, align='mid', color=\"grey\");\n",
    "        plt.title(find_replace_multi_ordered(j), fontsize=20)\n",
    "        yellow_patch = mpatches.Patch(label='T-Score Std: ' + str(df[df['fragment_one'] == j]['tscore'].std().round(3)))\n",
    "        red_patch = mpatches.Patch(label='Skewness: ' + str(df[df['fragment_one'] == j]['skew'].iloc[0].round(3)))\n",
    "        blue_patch = mpatches.Patch(label='Excess Kurtosis: ' + str(df[df['fragment_one'] == j]['kurtosis'].iloc[0].round(3)))\n",
    "        green_patch = mpatches.Patch(label='Count: ' + str(df[df['fragment_one'] == j]['n'].iloc[0]))\n",
    "        plt.legend(handles=[red_patch, blue_patch, yellow_patch, green_patch], prop={'size': 12}, loc=(0.7, 1.001))\n",
    "        plt.xlabel('t-score (mean + std)', fontsize=18)\n",
    "        plt.ylabel('Frequency', fontsize=18)\n",
    "    \n",
    "        plt.savefig('./plots_filtered/' + str(i) + '/' + j)\n",
    "        plt.close('all')"
   ]
  },
  {
   "cell_type": "code",
   "execution_count": 9,
   "metadata": {},
   "outputs": [
    {
     "name": "stdout",
     "output_type": "stream",
     "text": [
      "3 "
     ]
    },
    {
     "name": "stderr",
     "output_type": "stream",
     "text": [
      "/home/sudhanva/anaconda3/envs/tf114gpu/lib/python3.7/site-packages/ipykernel_launcher.py:14: RuntimeWarning: More than 20 figures have been opened. Figures created through the pyplot interface (`matplotlib.pyplot.figure`) are retained until explicitly closed and may consume too much memory. (To control this warning, see the rcParam `figure.max_open_warning`).\n",
      "  \n"
     ]
    },
    {
     "name": "stdout",
     "output_type": "stream",
     "text": [
      "4 5 6 7 8 9 10 11 12 13 14 15 16 17 18 19 20 21 22 23 24 25 26 27 28 29 30 31 32 33 34 35 36 37 38 39 40 41 "
     ]
    }
   ],
   "source": [
    "for i in range(3, 42):\n",
    "    file_name = './filtered/data_' + str(i) + '-filtered-variant.csv'\n",
    "    df = pd.read_csv(file_name).head(3000)\n",
    "    df.fillna(0, inplace=True)\n",
    "    os.makedirs('./plots_filtered_variant/' + str(i), exist_ok=True)\n",
    "    \n",
    "    print(i, end=' ')\n",
    "    \n",
    "    fragments = df['fragment_one'].unique()\n",
    "    \n",
    "    plt.close('all')\n",
    "    \n",
    "    for j in fragments:\n",
    "        plt.figure(figsize=(20, 10))\n",
    "        \n",
    "        if df[df['fragment_one'] == j]['tscore'].mean() == 0.0 or df[df['fragment_one'] == j]['tscore'].count() == 1:\n",
    "            continue\n",
    "            \n",
    "        std = df[df['fragment_one'] == j]['tscore'].std()\n",
    "\n",
    "        _ = plt.hist(df[df['fragment_one'] == j]['tscore'], bins=np.arange(std * -4, std * 5, std), edgecolor='black', linewidth=1.2, align='mid', color=\"grey\");\n",
    "        plt.title(find_replace_multi_ordered(j), fontsize=20)\n",
    "        yellow_patch = mpatches.Patch(label='T-Score Std: ' + str(df[df['fragment_one'] == j]['tscore'].std().round(3)))\n",
    "        red_patch = mpatches.Patch(label='Skewness: ' + str(df[df['fragment_one'] == j]['skew'].iloc[0].round(3)))\n",
    "        blue_patch = mpatches.Patch(label='Excess Kurtosis: ' + str(df[df['fragment_one'] == j]['kurtosis'].iloc[0].round(3)))\n",
    "        green_patch = mpatches.Patch(label='Count: ' + str(df[df['fragment_one'] == j]['n'].iloc[0]))\n",
    "        plt.legend(handles=[red_patch, blue_patch, yellow_patch, green_patch], prop={'size': 12}, loc=(0.7, 1.001))\n",
    "        plt.xlabel('t-score (mean + std)', fontsize=18)\n",
    "        plt.ylabel('Frequency', fontsize=18)\n",
    "    \n",
    "        plt.savefig('./plots_filtered_variant/' + str(i) + '/' + j)\n",
    "        plt.close('all')"
   ]
  },
  {
   "cell_type": "code",
   "execution_count": 10,
   "metadata": {},
   "outputs": [
    {
     "name": "stdout",
     "output_type": "stream",
     "text": [
      "3 "
     ]
    },
    {
     "name": "stderr",
     "output_type": "stream",
     "text": [
      "/home/sudhanva/anaconda3/envs/tf114gpu/lib/python3.7/site-packages/ipykernel_launcher.py:14: RuntimeWarning: More than 20 figures have been opened. Figures created through the pyplot interface (`matplotlib.pyplot.figure`) are retained until explicitly closed and may consume too much memory. (To control this warning, see the rcParam `figure.max_open_warning`).\n",
      "  \n"
     ]
    },
    {
     "name": "stdout",
     "output_type": "stream",
     "text": [
      "4 5 6 7 8 9 10 11 12 13 14 15 16 17 18 19 20 21 22 23 24 25 26 27 28 29 30 31 32 33 34 35 36 37 38 39 40 41 "
     ]
    }
   ],
   "source": [
    "for i in range(3, 42):\n",
    "    file_name = './filtered/data_' + str(i) + '-filtered-invariant.csv'\n",
    "    df = pd.read_csv(file_name).head(3000)\n",
    "    df.fillna(0, inplace=True)\n",
    "    os.makedirs('./plots_filtered_invariant/' + str(i), exist_ok=True)\n",
    "    \n",
    "    print(i, end=' ')\n",
    "    \n",
    "    fragments = df['fragment_one'].unique()\n",
    "    \n",
    "    plt.close('all')\n",
    "    \n",
    "    for j in fragments:\n",
    "        plt.figure(figsize=(20, 10))\n",
    "        \n",
    "        if df[df['fragment_one'] == j]['tscore'].mean() == 0.0 or df[df['fragment_one'] == j]['tscore'].count() == 1:\n",
    "            continue\n",
    "            \n",
    "        std = df[df['fragment_one'] == j]['tscore'].std()\n",
    "\n",
    "        _ = plt.hist(df[df['fragment_one'] == j]['tscore'], bins=np.arange(std * -4, std * 5, std), edgecolor='black', linewidth=1.2, align='mid', color=\"grey\");\n",
    "        plt.title(find_replace_multi_ordered(j), fontsize=20)\n",
    "        yellow_patch = mpatches.Patch(label='T-Score Std: ' + str(df[df['fragment_one'] == j]['tscore'].std().round(3)))\n",
    "        red_patch = mpatches.Patch(label='Skewness: ' + str(df[df['fragment_one'] == j]['skew'].iloc[0].round(3)))\n",
    "        blue_patch = mpatches.Patch(label='Excess Kurtosis: ' + str(df[df['fragment_one'] == j]['kurtosis'].iloc[0].round(3)))\n",
    "        green_patch = mpatches.Patch(label='Count: ' + str(df[df['fragment_one'] == j]['n'].iloc[0]))\n",
    "        plt.legend(handles=[red_patch, blue_patch, yellow_patch, green_patch], prop={'size': 12}, loc=(0.7, 1.001))\n",
    "        plt.xlabel('t-score (mean + std)', fontsize=18)\n",
    "        plt.ylabel('Frequency', fontsize=18)\n",
    "    \n",
    "        plt.savefig('./plots_filtered_invariant/' + str(i) + '/' + j)\n",
    "        plt.close('all')"
   ]
  },
  {
   "cell_type": "code",
   "execution_count": null,
   "metadata": {},
   "outputs": [],
   "source": []
  }
 ],
 "metadata": {
  "kernelspec": {
   "display_name": "Python 3",
   "language": "python",
   "name": "python3"
  },
  "language_info": {
   "codemirror_mode": {
    "name": "ipython",
    "version": 3
   },
   "file_extension": ".py",
   "mimetype": "text/x-python",
   "name": "python",
   "nbconvert_exporter": "python",
   "pygments_lexer": "ipython3",
   "version": "3.7.6"
  }
 },
 "nbformat": 4,
 "nbformat_minor": 4
}
